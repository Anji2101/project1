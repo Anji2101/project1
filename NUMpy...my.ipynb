{
 "cells": [
  {
   "cell_type": "code",
   "execution_count": 3,
   "id": "ef3ace4b",
   "metadata": {},
   "outputs": [],
   "source": [
    "import numpy as np\n",
    "import time\n",
    "import sys"
   ]
  },
  {
   "cell_type": "code",
   "execution_count": 4,
   "id": "c5a8b669",
   "metadata": {},
   "outputs": [
    {
     "name": "stdout",
     "output_type": "stream",
     "text": [
      "28000\n"
     ]
    }
   ],
   "source": [
    "# in python\n",
    "b=range(1000)\n",
    "print(sys.getsizeof(5)*len(b))"
   ]
  },
  {
   "cell_type": "code",
   "execution_count": 5,
   "id": "a4ec54af",
   "metadata": {},
   "outputs": [
    {
     "name": "stdout",
     "output_type": "stream",
     "text": [
      "4000\n"
     ]
    }
   ],
   "source": [
    "#In Numpy\n",
    "c=np.arange(1000)\n",
    "print(c.size*c.itemsize)"
   ]
  },
  {
   "cell_type": "code",
   "execution_count": 6,
   "id": "f7e2e11e",
   "metadata": {},
   "outputs": [
    {
     "ename": "NameError",
     "evalue": "name 'size' is not defined",
     "output_type": "error",
     "traceback": [
      "\u001b[1;31m---------------------------------------------------------------------------\u001b[0m",
      "\u001b[1;31mNameError\u001b[0m                                 Traceback (most recent call last)",
      "Input \u001b[1;32mIn [6]\u001b[0m, in \u001b[0;36m<cell line: 1>\u001b[1;34m()\u001b[0m\n\u001b[1;32m----> 1\u001b[0m L1\u001b[38;5;241m=\u001b[39m\u001b[38;5;28mrange\u001b[39m(\u001b[43msize\u001b[49m)\n\u001b[0;32m      2\u001b[0m L2\u001b[38;5;241m=\u001b[39m\u001b[38;5;28mrange\u001b[39m(size)\n\u001b[0;32m      3\u001b[0m A1\u001b[38;5;241m=\u001b[39mnp\u001b[38;5;241m.\u001b[39marange(size)\n",
      "\u001b[1;31mNameError\u001b[0m: name 'size' is not defined"
     ]
    }
   ],
   "source": [
    "L1=range(size)\n",
    "L2=range(size)\n",
    "A1=np.arange(size)"
   ]
  },
  {
   "cell_type": "code",
   "execution_count": 7,
   "id": "fa89bdfd",
   "metadata": {},
   "outputs": [
    {
     "data": {
      "text/plain": [
       "array([[1, 2],\n",
       "       [3, 4],\n",
       "       [5, 6]])"
      ]
     },
     "execution_count": 7,
     "metadata": {},
     "output_type": "execute_result"
    }
   ],
   "source": [
    "a=np.array([[1,2],\n",
    "           [3,4],\n",
    "           [5,6]])\n",
    "a"
   ]
  },
  {
   "cell_type": "code",
   "execution_count": 8,
   "id": "7087ebe4",
   "metadata": {},
   "outputs": [
    {
     "name": "stdout",
     "output_type": "stream",
     "text": [
      "[[1 2]\n",
      " [3 4]\n",
      " [5 6]]\n"
     ]
    }
   ],
   "source": [
    "print(a)"
   ]
  },
  {
   "cell_type": "code",
   "execution_count": 9,
   "id": "41166e23",
   "metadata": {},
   "outputs": [
    {
     "data": {
      "text/plain": [
       "2"
      ]
     },
     "execution_count": 9,
     "metadata": {},
     "output_type": "execute_result"
    }
   ],
   "source": [
    "a.ndim"
   ]
  },
  {
   "cell_type": "code",
   "execution_count": 10,
   "id": "a35ca55f",
   "metadata": {},
   "outputs": [
    {
     "data": {
      "text/plain": [
       "(3, 2)"
      ]
     },
     "execution_count": 10,
     "metadata": {},
     "output_type": "execute_result"
    }
   ],
   "source": [
    "a.shape"
   ]
  },
  {
   "cell_type": "code",
   "execution_count": 11,
   "id": "7fd2b400",
   "metadata": {},
   "outputs": [
    {
     "data": {
      "text/plain": [
       "4"
      ]
     },
     "execution_count": 11,
     "metadata": {},
     "output_type": "execute_result"
    }
   ],
   "source": [
    "a.itemsize"
   ]
  },
  {
   "cell_type": "code",
   "execution_count": 12,
   "id": "98c5d755",
   "metadata": {},
   "outputs": [
    {
     "name": "stderr",
     "output_type": "stream",
     "text": [
      "C:\\Users\\91790\\AppData\\Local\\Temp\\ipykernel_12080\\2949460448.py:3: DeprecationWarning: `np.complex` is a deprecated alias for the builtin `complex`. To silence this warning, use `complex` by itself. Doing this will not modify any behavior and is safe. If you specifically wanted the numpy scalar type, use `np.complex128` here.\n",
      "Deprecated in NumPy 1.20; for more details and guidance: https://numpy.org/devdocs/release/1.20.0-notes.html#deprecations\n",
      "  [5,6]],dtype=np.complex)#represented in the  form o complex.\n"
     ]
    },
    {
     "data": {
      "text/plain": [
       "array([[1.+0.j, 2.+0.j],\n",
       "       [3.+0.j, 4.+0.j],\n",
       "       [5.+0.j, 6.+0.j]])"
      ]
     },
     "execution_count": 12,
     "metadata": {},
     "output_type": "execute_result"
    }
   ],
   "source": [
    "a=np.array([[1,2],\n",
    "           [3,4],\n",
    "           [5,6]],dtype=np.complex)#represented in the  form o complex.\n",
    "a"
   ]
  },
  {
   "cell_type": "code",
   "execution_count": 13,
   "id": "8ac80f90",
   "metadata": {},
   "outputs": [
    {
     "data": {
      "text/plain": [
       "array([[0., 0.],\n",
       "       [0., 0.]])"
      ]
     },
     "execution_count": 13,
     "metadata": {},
     "output_type": "execute_result"
    }
   ],
   "source": [
    "z=np.zeros((2,2))\n",
    "z\n"
   ]
  },
  {
   "cell_type": "code",
   "execution_count": 14,
   "id": "fe277476",
   "metadata": {},
   "outputs": [
    {
     "data": {
      "text/plain": [
       "array([[1., 1., 1., 1., 1., 1.],\n",
       "       [1., 1., 1., 1., 1., 1.],\n",
       "       [1., 1., 1., 1., 1., 1.],\n",
       "       [1., 1., 1., 1., 1., 1.]])"
      ]
     },
     "execution_count": 14,
     "metadata": {},
     "output_type": "execute_result"
    }
   ],
   "source": [
    "o=np.ones((4,6))\n",
    "o"
   ]
  },
  {
   "cell_type": "code",
   "execution_count": 15,
   "id": "03b93866",
   "metadata": {},
   "outputs": [
    {
     "data": {
      "text/plain": [
       "range(0, 2)"
      ]
     },
     "execution_count": 15,
     "metadata": {},
     "output_type": "execute_result"
    }
   ],
   "source": [
    "l=range(2)\n",
    "l"
   ]
  },
  {
   "cell_type": "code",
   "execution_count": 16,
   "id": "4c8e4836",
   "metadata": {},
   "outputs": [
    {
     "data": {
      "text/plain": [
       "array([0, 1, 2, 3])"
      ]
     },
     "execution_count": 16,
     "metadata": {},
     "output_type": "execute_result"
    }
   ],
   "source": [
    "r=np.arange(4)\n",
    "r"
   ]
  },
  {
   "cell_type": "code",
   "execution_count": 17,
   "id": "39119fff",
   "metadata": {},
   "outputs": [
    {
     "name": "stdout",
     "output_type": "stream",
     "text": [
      "Concatenation example:\n",
      "['helloabc' 'hixyz']\n"
     ]
    }
   ],
   "source": [
    "print(\"Concatenation example:\")\n",
    "print(np.char.add(['hello','hi'],['abc','xyz']))"
   ]
  },
  {
   "cell_type": "code",
   "execution_count": 18,
   "id": "f473f5dd",
   "metadata": {},
   "outputs": [
    {
     "ename": "TypeError",
     "evalue": "_multiply_dispatcher() got an unexpected keyword argument 'fillchar'",
     "output_type": "error",
     "traceback": [
      "\u001b[1;31m---------------------------------------------------------------------------\u001b[0m",
      "\u001b[1;31mTypeError\u001b[0m                                 Traceback (most recent call last)",
      "Input \u001b[1;32mIn [18]\u001b[0m, in \u001b[0;36m<cell line: 1>\u001b[1;34m()\u001b[0m\n\u001b[1;32m----> 1\u001b[0m \u001b[38;5;28mprint\u001b[39m(\u001b[43mnp\u001b[49m\u001b[38;5;241;43m.\u001b[39;49m\u001b[43mchar\u001b[49m\u001b[38;5;241;43m.\u001b[39;49m\u001b[43mmultiply\u001b[49m\u001b[43m(\u001b[49m\u001b[38;5;124;43m'\u001b[39;49m\u001b[38;5;124;43mHello kundu \u001b[39;49m\u001b[38;5;124;43m'\u001b[39;49m\u001b[43m,\u001b[49m\u001b[38;5;241;43m5\u001b[39;49m\u001b[43m,\u001b[49m\u001b[43mfillchar\u001b[49m\u001b[38;5;241;43m=\u001b[39;49m\u001b[38;5;124;43m'\u001b[39;49m\u001b[38;5;124;43m-\u001b[39;49m\u001b[38;5;124;43m'\u001b[39;49m\u001b[43m)\u001b[49m)\n",
      "File \u001b[1;32m<__array_function__ internals>:4\u001b[0m, in \u001b[0;36mmultiply\u001b[1;34m(*args, **kwargs)\u001b[0m\n",
      "\u001b[1;31mTypeError\u001b[0m: _multiply_dispatcher() got an unexpected keyword argument 'fillchar'"
     ]
    }
   ],
   "source": [
    "print(np.char.multiply('Hello kundu ',5,fillchar='-'))\n"
   ]
  },
  {
   "cell_type": "code",
   "execution_count": 19,
   "id": "e44f9249",
   "metadata": {},
   "outputs": [
    {
     "name": "stdout",
     "output_type": "stream",
     "text": [
      "                                                                                                                                                                                                                                                                                                                                                                                                                                                                                                                                                                               hello Kundu love                                                                                                                                                                                                                                                                                                                                                                                                                                                                                                                                                                              \n"
     ]
    }
   ],
   "source": [
    "ex=np.char.center(\"hello Kundu love\",1133)\n",
    "print(ex)"
   ]
  },
  {
   "cell_type": "code",
   "execution_count": 26,
   "id": "9f599902",
   "metadata": {},
   "outputs": [
    {
     "name": "stdout",
     "output_type": "stream",
     "text": [
      "[1 3 4 6]\n"
     ]
    }
   ],
   "source": [
    "arr1=np.array([1,3,4,6])\n",
    "print(arr1)\n"
   ]
  },
  {
   "cell_type": "code",
   "execution_count": 34,
   "id": "0745f4a6",
   "metadata": {},
   "outputs": [],
   "source": [
    "arr1=np.empty(4)"
   ]
  },
  {
   "cell_type": "code",
   "execution_count": 35,
   "id": "ce7173d0",
   "metadata": {},
   "outputs": [
    {
     "name": "stdout",
     "output_type": "stream",
     "text": [
      "[0. 0. 0. 0.]\n"
     ]
    }
   ],
   "source": [
    "print(arr1)"
   ]
  },
  {
   "cell_type": "code",
   "execution_count": 36,
   "id": "7e2167b7",
   "metadata": {},
   "outputs": [
    {
     "data": {
      "text/plain": [
       "array([0., 0., 0., 0.])"
      ]
     },
     "execution_count": 36,
     "metadata": {},
     "output_type": "execute_result"
    }
   ],
   "source": [
    "arr1"
   ]
  },
  {
   "cell_type": "code",
   "execution_count": 38,
   "id": "3862ad66",
   "metadata": {},
   "outputs": [
    {
     "data": {
      "text/plain": [
       "array([0, 1, 2, 3, 4, 5, 6, 7, 8])"
      ]
     },
     "execution_count": 38,
     "metadata": {},
     "output_type": "execute_result"
    }
   ],
   "source": [
    "arr2=np.arange(9)\n",
    "arr2"
   ]
  },
  {
   "cell_type": "code",
   "execution_count": 41,
   "id": "ec4f7913",
   "metadata": {},
   "outputs": [],
   "source": [
    "arr2=np.eye(3,8)"
   ]
  },
  {
   "cell_type": "code",
   "execution_count": 42,
   "id": "30085742",
   "metadata": {},
   "outputs": [
    {
     "data": {
      "text/plain": [
       "array([[1., 0., 0., 0., 0., 0., 0., 0.],\n",
       "       [0., 1., 0., 0., 0., 0., 0., 0.],\n",
       "       [0., 0., 1., 0., 0., 0., 0., 0.]])"
      ]
     },
     "execution_count": 42,
     "metadata": {},
     "output_type": "execute_result"
    }
   ],
   "source": [
    "arr2"
   ]
  },
  {
   "cell_type": "code",
   "execution_count": 56,
   "id": "4852f6cc",
   "metadata": {},
   "outputs": [],
   "source": [
    "arr=np.linspace(1,10,10)"
   ]
  },
  {
   "cell_type": "code",
   "execution_count": 55,
   "id": "d93475a0",
   "metadata": {},
   "outputs": [
    {
     "data": {
      "text/plain": [
       "array([ 1.,  2.,  3.,  4.,  5.,  6.,  7.,  8.,  9., 10.])"
      ]
     },
     "execution_count": 55,
     "metadata": {},
     "output_type": "execute_result"
    }
   ],
   "source": [
    "arr"
   ]
  },
  {
   "cell_type": "code",
   "execution_count": 71,
   "id": "91d719cc",
   "metadata": {},
   "outputs": [],
   "source": [
    "arr=np.linspace(0,1,1)"
   ]
  },
  {
   "cell_type": "code",
   "execution_count": 72,
   "id": "128646c5",
   "metadata": {},
   "outputs": [
    {
     "data": {
      "text/plain": [
       "array([0.])"
      ]
     },
     "execution_count": 72,
     "metadata": {},
     "output_type": "execute_result"
    }
   ],
   "source": [
    "arr"
   ]
  },
  {
   "cell_type": "code",
   "execution_count": 82,
   "id": "44402d89",
   "metadata": {},
   "outputs": [
    {
     "data": {
      "text/plain": [
       "array([[[0.4407032 , 0.99596622, 0.90709247, 0.5729438 , 0.7614635 ],\n",
       "        [0.97903853, 0.13234801, 0.5885412 , 0.99880478, 0.51140205],\n",
       "        [0.24155583, 0.45981348, 0.77133648, 0.51630604, 0.53378263],\n",
       "        [0.2696209 , 0.08284006, 0.53089526, 0.34528264, 0.44128167],\n",
       "        [0.32125831, 0.37277095, 0.90323217, 0.1873233 , 0.42392386]]])"
      ]
     },
     "execution_count": 82,
     "metadata": {},
     "output_type": "execute_result"
    }
   ],
   "source": [
    "arr=np.random.rand(1,5)\n",
    "arr"
   ]
  },
  {
   "cell_type": "code",
   "execution_count": 87,
   "id": "4ad87da0",
   "metadata": {},
   "outputs": [
    {
     "data": {
      "text/plain": [
       "array([[-0.68526163,  1.16605282, -1.32736311, -1.24198664, -0.66776725],\n",
       "       [ 0.55109137,  0.21366757,  1.24471109, -0.33399665, -0.08274083],\n",
       "       [-0.56008996, -0.30353194, -0.60119061,  1.50476271,  0.78451972],\n",
       "       [ 1.02774488, -1.78843953,  0.08352168,  1.02628343,  0.13736933],\n",
       "       [ 0.98982995, -1.18611778,  0.03108674,  1.4000605 , -0.29270681],\n",
       "       [-2.01551398,  0.86209967, -0.10570333, -0.32838188,  1.16011536]])"
      ]
     },
     "execution_count": 87,
     "metadata": {},
     "output_type": "execute_result"
    }
   ],
   "source": [
    "arr=np.random.randn(6,5)\n",
    "arr"
   ]
  },
  {
   "cell_type": "code",
   "execution_count": 96,
   "id": "3264e8ca",
   "metadata": {},
   "outputs": [
    {
     "data": {
      "text/plain": [
       "0.5792242057711037"
      ]
     },
     "execution_count": 96,
     "metadata": {},
     "output_type": "execute_result"
    }
   ],
   "source": [
    "arr=np.random.ranf()\n",
    "arr"
   ]
  },
  {
   "cell_type": "code",
   "execution_count": 103,
   "id": "fd05e5b4",
   "metadata": {},
   "outputs": [
    {
     "data": {
      "text/plain": [
       "3"
      ]
     },
     "execution_count": 103,
     "metadata": {},
     "output_type": "execute_result"
    }
   ],
   "source": [
    "arr=np.random.randint(4)\n",
    "arr"
   ]
  },
  {
   "cell_type": "code",
   "execution_count": 109,
   "id": "693607b8",
   "metadata": {},
   "outputs": [
    {
     "name": "stdout",
     "output_type": "stream",
     "text": [
      "int32\n"
     ]
    }
   ],
   "source": [
    "\n",
    "var=np.array([1,4,5,6,3])\n",
    "print(var.dtype)"
   ]
  },
  {
   "cell_type": "code",
   "execution_count": 110,
   "id": "9eff2f27",
   "metadata": {},
   "outputs": [
    {
     "name": "stdout",
     "output_type": "stream",
     "text": [
      "int8\n"
     ]
    }
   ],
   "source": [
    "var=np.array([1,4,5,6,3],dtype=np.int8)\n",
    "print(var.dtype)"
   ]
  },
  {
   "cell_type": "code",
   "execution_count": 111,
   "id": "61c1f937",
   "metadata": {},
   "outputs": [
    {
     "name": "stdout",
     "output_type": "stream",
     "text": [
      "float32\n"
     ]
    }
   ],
   "source": [
    "var=np.array([1,4,5,6,3],dtype=\"f\")\n",
    "print(var.dtype)"
   ]
  },
  {
   "cell_type": "code",
   "execution_count": 118,
   "id": "76fc79e6",
   "metadata": {},
   "outputs": [
    {
     "name": "stdout",
     "output_type": "stream",
     "text": [
      "[[1 2 3]\n",
      " [3 5 6]]\n",
      "1\n",
      "2\n",
      "3\n",
      "3\n",
      "5\n",
      "6\n"
     ]
    }
   ],
   "source": [
    "arr2=np.array([[1,2,3],[3,5,6]])\n",
    "print(arr2)\n",
    "for i in np.nditer(arr2):\n",
    "    print(i)"
   ]
  },
  {
   "cell_type": "code",
   "execution_count": 125,
   "id": "4971e7e0",
   "metadata": {},
   "outputs": [
    {
     "name": "stdout",
     "output_type": "stream",
     "text": [
      "[[ 1  2  3]\n",
      " [ 3  5  6]\n",
      " [54  6  7]\n",
      " [ 5 67 87]]\n",
      "1\n",
      "2\n",
      "3\n",
      "3\n",
      "5\n",
      "6\n",
      "54\n",
      "6\n",
      "7\n",
      "5\n",
      "67\n",
      "87\n"
     ]
    }
   ],
   "source": [
    "arr2=np.array([[1,2,3],\n",
    "               [3,5,6],\n",
    "               [54,6,7],\n",
    "               [5,67,87]])\n",
    "print(arr2)\n",
    "for i in np.nditer(arr2):\n",
    "    print(i)\n"
   ]
  },
  {
   "cell_type": "code",
   "execution_count": 127,
   "id": "2e86277f",
   "metadata": {},
   "outputs": [
    {
     "name": "stdout",
     "output_type": "stream",
     "text": [
      "[[ 1  2  3]\n",
      " [ 3  5  6]\n",
      " [54  6  7]\n",
      " [ 5 67 87]]\n",
      "indexes: (0, 0) values: 1\n",
      "indexes: (0, 1) values: 2\n",
      "indexes: (0, 2) values: 3\n",
      "indexes: (1, 0) values: 3\n",
      "indexes: (1, 1) values: 5\n",
      "indexes: (1, 2) values: 6\n",
      "indexes: (2, 0) values: 54\n",
      "indexes: (2, 1) values: 6\n",
      "indexes: (2, 2) values: 7\n",
      "indexes: (3, 0) values: 5\n",
      "indexes: (3, 1) values: 67\n",
      "indexes: (3, 2) values: 87\n"
     ]
    }
   ],
   "source": [
    "arr2=np.array([[1,2,3],\n",
    "               [3,5,6],\n",
    "               [54,6,7],\n",
    "               [5,67,87]])\n",
    "print(arr2)\n",
    "for i,d in np.ndenumerate(arr2):\n",
    "    print(\"indexes:\",i,\"values:\",d)\n"
   ]
  },
  {
   "cell_type": "code",
   "execution_count": 129,
   "id": "50f6ab3f",
   "metadata": {},
   "outputs": [
    {
     "name": "stdout",
     "output_type": "stream",
     "text": [
      "[1 2 3 4 4 5 6 7]\n"
     ]
    }
   ],
   "source": [
    "arr1=np.array([1,2,3,4])\n",
    "arr2=np.array([4,5,6,7])\n",
    "join=np.concatenate((arr1,arr2))\n",
    "print(join)"
   ]
  },
  {
   "cell_type": "code",
   "execution_count": 136,
   "id": "2f6bebfa",
   "metadata": {},
   "outputs": [
    {
     "name": "stdout",
     "output_type": "stream",
     "text": [
      "[array([1, 2, 3]), array([4, 2]), array([4, 5]), array([6, 7]), array([3, 2]), array([35, 34]), array([ 6, 74])]\n"
     ]
    }
   ],
   "source": [
    "arr1=np.array([1,2,3,4,2,4,5,6,7,3,2,35,34,6,74])\n",
    "split=np.array_split(arr1,7)\n",
    "print(split)"
   ]
  },
  {
   "cell_type": "code",
   "execution_count": null,
   "id": "ed5da29e",
   "metadata": {},
   "outputs": [],
   "source": []
  },
  {
   "cell_type": "code",
   "execution_count": null,
   "id": "18d51829",
   "metadata": {},
   "outputs": [],
   "source": []
  },
  {
   "cell_type": "code",
   "execution_count": null,
   "id": "720468f8",
   "metadata": {},
   "outputs": [],
   "source": []
  },
  {
   "cell_type": "code",
   "execution_count": null,
   "id": "89d408e4",
   "metadata": {},
   "outputs": [],
   "source": []
  }
 ],
 "metadata": {
  "kernelspec": {
   "display_name": "Python 3 (ipykernel)",
   "language": "python",
   "name": "python3"
  },
  "language_info": {
   "codemirror_mode": {
    "name": "ipython",
    "version": 3
   },
   "file_extension": ".py",
   "mimetype": "text/x-python",
   "name": "python",
   "nbconvert_exporter": "python",
   "pygments_lexer": "ipython3",
   "version": "3.9.12"
  }
 },
 "nbformat": 4,
 "nbformat_minor": 5
}
